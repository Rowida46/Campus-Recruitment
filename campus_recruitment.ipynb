{
  "cells": [
    {
      "cell_type": "markdown",
      "metadata": {
        "id": "view-in-github",
        "colab_type": "text"
      },
      "source": [
        "<a href=\"https://colab.research.google.com/github/Rowida46/Campus-Recruitment/blob/main/campus_recruitment.ipynb\" target=\"_parent\"><img src=\"https://colab.research.google.com/assets/colab-badge.svg\" alt=\"Open In Colab\"/></a>"
      ]
    },
    {
      "metadata": {
        "id": "P2abkk8tiuGW"
      },
      "cell_type": "markdown",
      "source": [
        "# Importing Project Dependencies"
      ]
    },
    {
      "metadata": {
        "_uuid": "8f2839f25d086af736a60e9eeb907d3b93b6e0e5",
        "_cell_guid": "b1076dfc-b9ad-4769-8c92-a6c4dae69d19",
        "trusted": true,
        "id": "ROt1xKHfiuGc",
        "outputId": "8c68b7b2-115f-40b5-f5b4-d1ecd2a4df50"
      },
      "cell_type": "code",
      "source": [
        "import numpy as np # linear algebra\n",
        "import pandas as pd # data processing, CSV file I/O (e.g. pd.read_csv)\n",
        "import seaborn as sns\n",
        "import matplotlib.pyplot as plt\n",
        "import os\n",
        "for dirname, _, filenames in os.walk('/kaggle/input'):\n",
        "    for filename in filenames:\n",
        "        print(os.path.join(dirname, filename))"
      ],
      "execution_count": null,
      "outputs": [
        {
          "output_type": "stream",
          "text": "/kaggle/input/factors-affecting-campus-placement/Placement_Data_Full_Class.csv\n",
          "name": "stdout"
        }
      ]
    },
    {
      "metadata": {
        "id": "pcqikgZOiuGg"
      },
      "cell_type": "markdown",
      "source": [
        "# Importing our data set"
      ]
    },
    {
      "metadata": {
        "_uuid": "d629ff2d2480ee46fbb7e2d37f6b5fab8052498a",
        "_cell_guid": "79c7e3d0-c299-4dcb-8224-4455121ee9b0",
        "trusted": true,
        "id": "VyUE42pGiuGg"
      },
      "cell_type": "code",
      "source": [
        "df = pd.read_csv('/kaggle/input/factors-affecting-campus-placement/Placement_Data_Full_Class.csv')"
      ],
      "execution_count": null,
      "outputs": []
    },
    {
      "metadata": {
        "trusted": true,
        "id": "irBFENdCiuGh",
        "outputId": "9facfceb-1ee5-4c21-b75f-862e24cfc7ba"
      },
      "cell_type": "code",
      "source": [
        "df.head()"
      ],
      "execution_count": null,
      "outputs": [
        {
          "output_type": "execute_result",
          "execution_count": 3,
          "data": {
            "text/plain": "   sl_no gender  ssc_p    ssc_b  hsc_p    hsc_b     hsc_s  degree_p  \\\n0      1      M  67.00   Others  91.00   Others  Commerce     58.00   \n1      2      M  79.33  Central  78.33   Others   Science     77.48   \n2      3      M  65.00  Central  68.00  Central      Arts     64.00   \n3      4      M  56.00  Central  52.00  Central   Science     52.00   \n4      5      M  85.80  Central  73.60  Central  Commerce     73.30   \n\n    degree_t workex  etest_p specialisation  mba_p      status    salary  \n0   Sci&Tech     No     55.0         Mkt&HR  58.80      Placed  270000.0  \n1   Sci&Tech    Yes     86.5        Mkt&Fin  66.28      Placed  200000.0  \n2  Comm&Mgmt     No     75.0        Mkt&Fin  57.80      Placed  250000.0  \n3   Sci&Tech     No     66.0         Mkt&HR  59.43  Not Placed       NaN  \n4  Comm&Mgmt     No     96.8        Mkt&Fin  55.50      Placed  425000.0  ",
            "text/html": "<div>\n<style scoped>\n    .dataframe tbody tr th:only-of-type {\n        vertical-align: middle;\n    }\n\n    .dataframe tbody tr th {\n        vertical-align: top;\n    }\n\n    .dataframe thead th {\n        text-align: right;\n    }\n</style>\n<table border=\"1\" class=\"dataframe\">\n  <thead>\n    <tr style=\"text-align: right;\">\n      <th></th>\n      <th>sl_no</th>\n      <th>gender</th>\n      <th>ssc_p</th>\n      <th>ssc_b</th>\n      <th>hsc_p</th>\n      <th>hsc_b</th>\n      <th>hsc_s</th>\n      <th>degree_p</th>\n      <th>degree_t</th>\n      <th>workex</th>\n      <th>etest_p</th>\n      <th>specialisation</th>\n      <th>mba_p</th>\n      <th>status</th>\n      <th>salary</th>\n    </tr>\n  </thead>\n  <tbody>\n    <tr>\n      <th>0</th>\n      <td>1</td>\n      <td>M</td>\n      <td>67.00</td>\n      <td>Others</td>\n      <td>91.00</td>\n      <td>Others</td>\n      <td>Commerce</td>\n      <td>58.00</td>\n      <td>Sci&amp;Tech</td>\n      <td>No</td>\n      <td>55.0</td>\n      <td>Mkt&amp;HR</td>\n      <td>58.80</td>\n      <td>Placed</td>\n      <td>270000.0</td>\n    </tr>\n    <tr>\n      <th>1</th>\n      <td>2</td>\n      <td>M</td>\n      <td>79.33</td>\n      <td>Central</td>\n      <td>78.33</td>\n      <td>Others</td>\n      <td>Science</td>\n      <td>77.48</td>\n      <td>Sci&amp;Tech</td>\n      <td>Yes</td>\n      <td>86.5</td>\n      <td>Mkt&amp;Fin</td>\n      <td>66.28</td>\n      <td>Placed</td>\n      <td>200000.0</td>\n    </tr>\n    <tr>\n      <th>2</th>\n      <td>3</td>\n      <td>M</td>\n      <td>65.00</td>\n      <td>Central</td>\n      <td>68.00</td>\n      <td>Central</td>\n      <td>Arts</td>\n      <td>64.00</td>\n      <td>Comm&amp;Mgmt</td>\n      <td>No</td>\n      <td>75.0</td>\n      <td>Mkt&amp;Fin</td>\n      <td>57.80</td>\n      <td>Placed</td>\n      <td>250000.0</td>\n    </tr>\n    <tr>\n      <th>3</th>\n      <td>4</td>\n      <td>M</td>\n      <td>56.00</td>\n      <td>Central</td>\n      <td>52.00</td>\n      <td>Central</td>\n      <td>Science</td>\n      <td>52.00</td>\n      <td>Sci&amp;Tech</td>\n      <td>No</td>\n      <td>66.0</td>\n      <td>Mkt&amp;HR</td>\n      <td>59.43</td>\n      <td>Not Placed</td>\n      <td>NaN</td>\n    </tr>\n    <tr>\n      <th>4</th>\n      <td>5</td>\n      <td>M</td>\n      <td>85.80</td>\n      <td>Central</td>\n      <td>73.60</td>\n      <td>Central</td>\n      <td>Commerce</td>\n      <td>73.30</td>\n      <td>Comm&amp;Mgmt</td>\n      <td>No</td>\n      <td>96.8</td>\n      <td>Mkt&amp;Fin</td>\n      <td>55.50</td>\n      <td>Placed</td>\n      <td>425000.0</td>\n    </tr>\n  </tbody>\n</table>\n</div>"
          },
          "metadata": {}
        }
      ]
    },
    {
      "metadata": {
        "id": "Zh-Wp7BhiuGh"
      },
      "cell_type": "markdown",
      "source": [
        "Now that we have our data, we will try and look for null values in our data. We will use the describe() method to find the mean of different columns and some other data that might help us in making our model."
      ]
    },
    {
      "metadata": {
        "trusted": true,
        "id": "P5oYABGPiuGi",
        "outputId": "944146ee-6e35-444b-f355-b186caff438a"
      },
      "cell_type": "code",
      "source": [
        "df.isnull().sum()"
      ],
      "execution_count": null,
      "outputs": [
        {
          "output_type": "execute_result",
          "execution_count": 4,
          "data": {
            "text/plain": "sl_no              0\ngender             0\nssc_p              0\nssc_b              0\nhsc_p              0\nhsc_b              0\nhsc_s              0\ndegree_p           0\ndegree_t           0\nworkex             0\netest_p            0\nspecialisation     0\nmba_p              0\nstatus             0\nsalary            67\ndtype: int64"
          },
          "metadata": {}
        }
      ]
    },
    {
      "metadata": {
        "id": "W50IgcJhiuGj"
      },
      "cell_type": "markdown",
      "source": [
        "We only have null values in salary column, for now we will keep it and try and see whhat whether we need it as a feature or not. If needed, we will fill these null values."
      ]
    },
    {
      "metadata": {
        "trusted": true,
        "id": "0u3sbTdRiuGj",
        "outputId": "c75dc6ba-5af6-42f2-e060-82b95ccdc915"
      },
      "cell_type": "code",
      "source": [
        "df.info()"
      ],
      "execution_count": null,
      "outputs": [
        {
          "output_type": "stream",
          "text": "<class 'pandas.core.frame.DataFrame'>\nRangeIndex: 215 entries, 0 to 214\nData columns (total 15 columns):\n #   Column          Non-Null Count  Dtype  \n---  ------          --------------  -----  \n 0   sl_no           215 non-null    int64  \n 1   gender          215 non-null    object \n 2   ssc_p           215 non-null    float64\n 3   ssc_b           215 non-null    object \n 4   hsc_p           215 non-null    float64\n 5   hsc_b           215 non-null    object \n 6   hsc_s           215 non-null    object \n 7   degree_p        215 non-null    float64\n 8   degree_t        215 non-null    object \n 9   workex          215 non-null    object \n 10  etest_p         215 non-null    float64\n 11  specialisation  215 non-null    object \n 12  mba_p           215 non-null    float64\n 13  status          215 non-null    object \n 14  salary          148 non-null    float64\ndtypes: float64(6), int64(1), object(8)\nmemory usage: 25.3+ KB\n",
          "name": "stdout"
        }
      ]
    },
    {
      "metadata": {
        "trusted": true,
        "id": "M27al0jqiuGk",
        "outputId": "421fed6b-ebb5-4047-ab51-bb6fd1d80d53"
      },
      "cell_type": "code",
      "source": [
        "df.describe()"
      ],
      "execution_count": null,
      "outputs": [
        {
          "output_type": "execute_result",
          "execution_count": 6,
          "data": {
            "text/plain": "            sl_no       ssc_p       hsc_p    degree_p     etest_p       mba_p  \\\ncount  215.000000  215.000000  215.000000  215.000000  215.000000  215.000000   \nmean   108.000000   67.303395   66.333163   66.370186   72.100558   62.278186   \nstd     62.209324   10.827205   10.897509    7.358743   13.275956    5.833385   \nmin      1.000000   40.890000   37.000000   50.000000   50.000000   51.210000   \n25%     54.500000   60.600000   60.900000   61.000000   60.000000   57.945000   \n50%    108.000000   67.000000   65.000000   66.000000   71.000000   62.000000   \n75%    161.500000   75.700000   73.000000   72.000000   83.500000   66.255000   \nmax    215.000000   89.400000   97.700000   91.000000   98.000000   77.890000   \n\n              salary  \ncount     148.000000  \nmean   288655.405405  \nstd     93457.452420  \nmin    200000.000000  \n25%    240000.000000  \n50%    265000.000000  \n75%    300000.000000  \nmax    940000.000000  ",
            "text/html": "<div>\n<style scoped>\n    .dataframe tbody tr th:only-of-type {\n        vertical-align: middle;\n    }\n\n    .dataframe tbody tr th {\n        vertical-align: top;\n    }\n\n    .dataframe thead th {\n        text-align: right;\n    }\n</style>\n<table border=\"1\" class=\"dataframe\">\n  <thead>\n    <tr style=\"text-align: right;\">\n      <th></th>\n      <th>sl_no</th>\n      <th>ssc_p</th>\n      <th>hsc_p</th>\n      <th>degree_p</th>\n      <th>etest_p</th>\n      <th>mba_p</th>\n      <th>salary</th>\n    </tr>\n  </thead>\n  <tbody>\n    <tr>\n      <th>count</th>\n      <td>215.000000</td>\n      <td>215.000000</td>\n      <td>215.000000</td>\n      <td>215.000000</td>\n      <td>215.000000</td>\n      <td>215.000000</td>\n      <td>148.000000</td>\n    </tr>\n    <tr>\n      <th>mean</th>\n      <td>108.000000</td>\n      <td>67.303395</td>\n      <td>66.333163</td>\n      <td>66.370186</td>\n      <td>72.100558</td>\n      <td>62.278186</td>\n      <td>288655.405405</td>\n    </tr>\n    <tr>\n      <th>std</th>\n      <td>62.209324</td>\n      <td>10.827205</td>\n      <td>10.897509</td>\n      <td>7.358743</td>\n      <td>13.275956</td>\n      <td>5.833385</td>\n      <td>93457.452420</td>\n    </tr>\n    <tr>\n      <th>min</th>\n      <td>1.000000</td>\n      <td>40.890000</td>\n      <td>37.000000</td>\n      <td>50.000000</td>\n      <td>50.000000</td>\n      <td>51.210000</td>\n      <td>200000.000000</td>\n    </tr>\n    <tr>\n      <th>25%</th>\n      <td>54.500000</td>\n      <td>60.600000</td>\n      <td>60.900000</td>\n      <td>61.000000</td>\n      <td>60.000000</td>\n      <td>57.945000</td>\n      <td>240000.000000</td>\n    </tr>\n    <tr>\n      <th>50%</th>\n      <td>108.000000</td>\n      <td>67.000000</td>\n      <td>65.000000</td>\n      <td>66.000000</td>\n      <td>71.000000</td>\n      <td>62.000000</td>\n      <td>265000.000000</td>\n    </tr>\n    <tr>\n      <th>75%</th>\n      <td>161.500000</td>\n      <td>75.700000</td>\n      <td>73.000000</td>\n      <td>72.000000</td>\n      <td>83.500000</td>\n      <td>66.255000</td>\n      <td>300000.000000</td>\n    </tr>\n    <tr>\n      <th>max</th>\n      <td>215.000000</td>\n      <td>89.400000</td>\n      <td>97.700000</td>\n      <td>91.000000</td>\n      <td>98.000000</td>\n      <td>77.890000</td>\n      <td>940000.000000</td>\n    </tr>\n  </tbody>\n</table>\n</div>"
          },
          "metadata": {}
        }
      ]
    },
    {
      "metadata": {
        "trusted": true,
        "id": "wXyLADhXiuGx"
      },
      "cell_type": "code",
      "source": [
        "df1 = df.copy()"
      ],
      "execution_count": null,
      "outputs": []
    },
    {
      "metadata": {
        "id": "bdoNBDY2iuGx"
      },
      "cell_type": "markdown",
      "source": [
        "We will drop the sl_no and salary column as they wont help us in any way. The salary also has null values so dropping it means we dint have to impute these values and it won't help us in predicting if a person gets placed or not."
      ]
    },
    {
      "metadata": {
        "trusted": true,
        "id": "TAlD-boMiuGx"
      },
      "cell_type": "code",
      "source": [
        "df1.drop(['sl_no','salary'],axis = 1,inplace = True)"
      ],
      "execution_count": null,
      "outputs": []
    },
    {
      "metadata": {
        "trusted": true,
        "id": "wfizcNDNiuGy",
        "outputId": "bda61c96-d91c-47cc-96a6-86c62f24dc35"
      },
      "cell_type": "code",
      "source": [
        "df1.head()"
      ],
      "execution_count": null,
      "outputs": [
        {
          "output_type": "execute_result",
          "execution_count": 39,
          "data": {
            "text/plain": "  gender  ssc_p    ssc_b  hsc_p    hsc_b     hsc_s  degree_p   degree_t  \\\n0      M  67.00   Others  91.00   Others  Commerce     58.00   Sci&Tech   \n1      M  79.33  Central  78.33   Others   Science     77.48   Sci&Tech   \n2      M  65.00  Central  68.00  Central      Arts     64.00  Comm&Mgmt   \n3      M  56.00  Central  52.00  Central   Science     52.00   Sci&Tech   \n4      M  85.80  Central  73.60  Central  Commerce     73.30  Comm&Mgmt   \n\n  workex  etest_p  specialisation  mba_p      status  \n0     No     55.0               1  58.80      Placed  \n1    Yes     86.5               0  66.28      Placed  \n2     No     75.0               0  57.80      Placed  \n3     No     66.0               1  59.43  Not Placed  \n4     No     96.8               0  55.50      Placed  ",
            "text/html": "<div>\n<style scoped>\n    .dataframe tbody tr th:only-of-type {\n        vertical-align: middle;\n    }\n\n    .dataframe tbody tr th {\n        vertical-align: top;\n    }\n\n    .dataframe thead th {\n        text-align: right;\n    }\n</style>\n<table border=\"1\" class=\"dataframe\">\n  <thead>\n    <tr style=\"text-align: right;\">\n      <th></th>\n      <th>gender</th>\n      <th>ssc_p</th>\n      <th>ssc_b</th>\n      <th>hsc_p</th>\n      <th>hsc_b</th>\n      <th>hsc_s</th>\n      <th>degree_p</th>\n      <th>degree_t</th>\n      <th>workex</th>\n      <th>etest_p</th>\n      <th>specialisation</th>\n      <th>mba_p</th>\n      <th>status</th>\n    </tr>\n  </thead>\n  <tbody>\n    <tr>\n      <th>0</th>\n      <td>M</td>\n      <td>67.00</td>\n      <td>Others</td>\n      <td>91.00</td>\n      <td>Others</td>\n      <td>Commerce</td>\n      <td>58.00</td>\n      <td>Sci&amp;Tech</td>\n      <td>No</td>\n      <td>55.0</td>\n      <td>1</td>\n      <td>58.80</td>\n      <td>Placed</td>\n    </tr>\n    <tr>\n      <th>1</th>\n      <td>M</td>\n      <td>79.33</td>\n      <td>Central</td>\n      <td>78.33</td>\n      <td>Others</td>\n      <td>Science</td>\n      <td>77.48</td>\n      <td>Sci&amp;Tech</td>\n      <td>Yes</td>\n      <td>86.5</td>\n      <td>0</td>\n      <td>66.28</td>\n      <td>Placed</td>\n    </tr>\n    <tr>\n      <th>2</th>\n      <td>M</td>\n      <td>65.00</td>\n      <td>Central</td>\n      <td>68.00</td>\n      <td>Central</td>\n      <td>Arts</td>\n      <td>64.00</td>\n      <td>Comm&amp;Mgmt</td>\n      <td>No</td>\n      <td>75.0</td>\n      <td>0</td>\n      <td>57.80</td>\n      <td>Placed</td>\n    </tr>\n    <tr>\n      <th>3</th>\n      <td>M</td>\n      <td>56.00</td>\n      <td>Central</td>\n      <td>52.00</td>\n      <td>Central</td>\n      <td>Science</td>\n      <td>52.00</td>\n      <td>Sci&amp;Tech</td>\n      <td>No</td>\n      <td>66.0</td>\n      <td>1</td>\n      <td>59.43</td>\n      <td>Not Placed</td>\n    </tr>\n    <tr>\n      <th>4</th>\n      <td>M</td>\n      <td>85.80</td>\n      <td>Central</td>\n      <td>73.60</td>\n      <td>Central</td>\n      <td>Commerce</td>\n      <td>73.30</td>\n      <td>Comm&amp;Mgmt</td>\n      <td>No</td>\n      <td>96.8</td>\n      <td>0</td>\n      <td>55.50</td>\n      <td>Placed</td>\n    </tr>\n  </tbody>\n</table>\n</div>"
          },
          "metadata": {}
        }
      ]
    },
    {
      "metadata": {
        "id": "Y3gYsZTJiuGy"
      },
      "cell_type": "markdown",
      "source": [
        "We have values in the columns that are strings. In order to train our model, we need to convert these strings to numbers in order to feed it to the model."
      ]
    },
    {
      "metadata": {
        "trusted": true,
        "id": "5dclSmnxiuGy"
      },
      "cell_type": "code",
      "source": [
        "df1['status']= df1['status'].map({'Placed':1,'Not Placed':0})\n",
        "df1['workex']= df1['workex'].map({'Yes':1,'No':0})\n",
        "df1['gender']= df1['gender'].map({'M':1,'F':0})\n",
        "df1['hsc_b']= df1['hsc_b'].map({'Central':1,'Others':0})\n",
        "df1['ssc_b']= df1['ssc_b'].map({'Central':1,'Others':0})\n",
        "df1['degree_t']= df1['degree_t'].map({'Sci&Tech':0,'Comm&Mgmt':1,'Others':2})\n",
        "df['specialisation']= df1['specialisation'].map({'Mkt&HR':1,'Mkt&Fin':0})\n",
        "df1['hsc_s']= df1['hsc_s'].map({'Commerce':0,'Science':1,'Arts':2})"
      ],
      "execution_count": null,
      "outputs": []
    },
    {
      "metadata": {
        "trusted": true,
        "id": "CqjykE8IiuGy",
        "outputId": "d922943a-045c-4264-b0ae-470517dec264"
      },
      "cell_type": "code",
      "source": [
        "df1.head()"
      ],
      "execution_count": null,
      "outputs": [
        {
          "output_type": "execute_result",
          "execution_count": 41,
          "data": {
            "text/plain": "   gender  ssc_p  ssc_b  hsc_p  hsc_b  hsc_s  degree_p  degree_t  workex  \\\n0       1  67.00      0  91.00      0      0     58.00         0       0   \n1       1  79.33      1  78.33      0      1     77.48         0       1   \n2       1  65.00      1  68.00      1      2     64.00         1       0   \n3       1  56.00      1  52.00      1      1     52.00         0       0   \n4       1  85.80      1  73.60      1      0     73.30         1       0   \n\n   etest_p  specialisation  mba_p  status  \n0     55.0               1  58.80       1  \n1     86.5               0  66.28       1  \n2     75.0               0  57.80       1  \n3     66.0               1  59.43       0  \n4     96.8               0  55.50       1  ",
            "text/html": "<div>\n<style scoped>\n    .dataframe tbody tr th:only-of-type {\n        vertical-align: middle;\n    }\n\n    .dataframe tbody tr th {\n        vertical-align: top;\n    }\n\n    .dataframe thead th {\n        text-align: right;\n    }\n</style>\n<table border=\"1\" class=\"dataframe\">\n  <thead>\n    <tr style=\"text-align: right;\">\n      <th></th>\n      <th>gender</th>\n      <th>ssc_p</th>\n      <th>ssc_b</th>\n      <th>hsc_p</th>\n      <th>hsc_b</th>\n      <th>hsc_s</th>\n      <th>degree_p</th>\n      <th>degree_t</th>\n      <th>workex</th>\n      <th>etest_p</th>\n      <th>specialisation</th>\n      <th>mba_p</th>\n      <th>status</th>\n    </tr>\n  </thead>\n  <tbody>\n    <tr>\n      <th>0</th>\n      <td>1</td>\n      <td>67.00</td>\n      <td>0</td>\n      <td>91.00</td>\n      <td>0</td>\n      <td>0</td>\n      <td>58.00</td>\n      <td>0</td>\n      <td>0</td>\n      <td>55.0</td>\n      <td>1</td>\n      <td>58.80</td>\n      <td>1</td>\n    </tr>\n    <tr>\n      <th>1</th>\n      <td>1</td>\n      <td>79.33</td>\n      <td>1</td>\n      <td>78.33</td>\n      <td>0</td>\n      <td>1</td>\n      <td>77.48</td>\n      <td>0</td>\n      <td>1</td>\n      <td>86.5</td>\n      <td>0</td>\n      <td>66.28</td>\n      <td>1</td>\n    </tr>\n    <tr>\n      <th>2</th>\n      <td>1</td>\n      <td>65.00</td>\n      <td>1</td>\n      <td>68.00</td>\n      <td>1</td>\n      <td>2</td>\n      <td>64.00</td>\n      <td>1</td>\n      <td>0</td>\n      <td>75.0</td>\n      <td>0</td>\n      <td>57.80</td>\n      <td>1</td>\n    </tr>\n    <tr>\n      <th>3</th>\n      <td>1</td>\n      <td>56.00</td>\n      <td>1</td>\n      <td>52.00</td>\n      <td>1</td>\n      <td>1</td>\n      <td>52.00</td>\n      <td>0</td>\n      <td>0</td>\n      <td>66.0</td>\n      <td>1</td>\n      <td>59.43</td>\n      <td>0</td>\n    </tr>\n    <tr>\n      <th>4</th>\n      <td>1</td>\n      <td>85.80</td>\n      <td>1</td>\n      <td>73.60</td>\n      <td>1</td>\n      <td>0</td>\n      <td>73.30</td>\n      <td>1</td>\n      <td>0</td>\n      <td>96.8</td>\n      <td>0</td>\n      <td>55.50</td>\n      <td>1</td>\n    </tr>\n  </tbody>\n</table>\n</div>"
          },
          "metadata": {}
        }
      ]
    },
    {
      "metadata": {
        "trusted": true,
        "id": "-_TQMPloiuGz"
      },
      "cell_type": "code",
      "source": [
        "from sklearn.model_selection import train_test_split\n",
        "from sklearn.preprocessing import StandardScaler\n",
        "from sklearn.linear_model import LogisticRegression\n",
        "from sklearn.ensemble import RandomForestClassifier\n",
        "from sklearn.metrics import classification_report, confusion_matrix ,accuracy_score,recall_score,precision_score"
      ],
      "execution_count": null,
      "outputs": []
    },
    {
      "metadata": {
        "id": "gSEXifeUiuGz"
      },
      "cell_type": "markdown",
      "source": [
        "We won't use all of these values. We will use the 'ssc_p','hsc_p','degree_p','workex','mba_p','etest_p','gender','degree_t' and 'specialisation' column as our features to predict whether a candidate will be placed or not."
      ]
    },
    {
      "metadata": {
        "trusted": true,
        "id": "x7wemLQGiuGz"
      },
      "cell_type": "code",
      "source": [
        "X = df1[['ssc_p','hsc_p','degree_p','workex','mba_p','etest_p','gender','degree_t','specialisation']]\n",
        "y = df1['status']"
      ],
      "execution_count": null,
      "outputs": []
    },
    {
      "metadata": {
        "id": "yIyNh3vTiuGz"
      },
      "cell_type": "markdown",
      "source": [
        "Now that we have our features, we will split them and into training and testing sets and we will also scale down our features in order to have better results."
      ]
    },
    {
      "metadata": {
        "trusted": true,
        "id": "TtxW-SOwiuGz"
      },
      "cell_type": "code",
      "source": [
        "X_train,X_test,y_train,y_test = train_test_split(X,y,test_size = 0.2,random_state = 101)"
      ],
      "execution_count": null,
      "outputs": []
    },
    {
      "metadata": {
        "trusted": true,
        "id": "DITGnC-FiuG0"
      },
      "cell_type": "code",
      "source": [
        "scaler = StandardScaler()\n",
        "scaler.fit(X_train)\n",
        "X_train = scaler.transform(X_train)\n",
        "X_test = scaler.transform(X_test)"
      ],
      "execution_count": null,
      "outputs": []
    },
    {
      "metadata": {
        "id": "uH6_XzPoiuG0"
      },
      "cell_type": "markdown",
      "source": [
        "Our goal is to predict whether a candidate will be placed or not. This is a classification problem so we will use Logistic regression, KNN and SVM and compare how these perform individually."
      ]
    },
    {
      "metadata": {
        "id": "dp1VeTdqiuG1"
      },
      "cell_type": "markdown",
      "source": [
        "# KNN"
      ]
    },
    {
      "metadata": {
        "trusted": true,
        "id": "785Z6jBiiuG1"
      },
      "cell_type": "code",
      "source": [
        "from sklearn.neighbors import KNeighborsClassifier"
      ],
      "execution_count": null,
      "outputs": []
    },
    {
      "metadata": {
        "trusted": true,
        "id": "yT-L0Z1IiuG1"
      },
      "cell_type": "code",
      "source": [
        "knn = KNeighborsClassifier(n_neighbors=1)\n",
        "knn.fit(X_train,y_train)\n",
        "prediction = knn.predict(X_test)"
      ],
      "execution_count": null,
      "outputs": []
    },
    {
      "metadata": {
        "trusted": true,
        "id": "7gF269DAiuG2",
        "outputId": "abed386c-4f3f-4cd9-ee11-1a591460a1ff"
      },
      "cell_type": "code",
      "source": [
        "print(\"Accuracy:\",accuracy_score(y_test, prediction)*100)\n",
        "print(\"Precision:\",precision_score(y_test, prediction)*100)\n",
        "print(\"Recall:\",recall_score(y_test, prediction)*100)"
      ],
      "execution_count": null,
      "outputs": [
        {
          "output_type": "stream",
          "text": "Accuracy: 74.4186046511628\nPrecision: 80.76923076923077\nRecall: 77.77777777777779\n",
          "name": "stdout"
        }
      ]
    },
    {
      "metadata": {
        "trusted": true,
        "id": "TwR396K0iuG2",
        "outputId": "37be66d8-214f-4898-d834-af1709f9d062"
      },
      "cell_type": "code",
      "source": [
        "user_input2 = [[67.00,91.00,58.00,0,58.80,55.00,1,0,1]]\n",
        "user_pred2 = knn.predict(user_input2)\n",
        "if user_pred1 == 1:\n",
        "    print(\"The Candidate will be Placed!\")\n",
        "else:\n",
        "    print(\"The Candidate won't be Placed :(\")"
      ],
      "execution_count": null,
      "outputs": [
        {
          "output_type": "stream",
          "text": "The Candidate will be Placed!\n",
          "name": "stdout"
        }
      ]
    },
    {
      "metadata": {
        "id": "t05IkO95iuG4"
      },
      "cell_type": "markdown",
      "source": [
        "# SVM"
      ]
    },
    {
      "metadata": {
        "trusted": true,
        "id": "GNLvkDhsiuG4"
      },
      "cell_type": "code",
      "source": [
        "from sklearn.svm import SVC"
      ],
      "execution_count": null,
      "outputs": []
    },
    {
      "metadata": {
        "trusted": true,
        "id": "MLeywyiBiuG4"
      },
      "cell_type": "code",
      "source": [
        "svc = SVC()\n",
        "svc.fit(X_train,y_train)\n",
        "svc_pred = svc.predict(X_test)"
      ],
      "execution_count": null,
      "outputs": []
    },
    {
      "metadata": {
        "trusted": true,
        "id": "UNbVoaUKiuG4",
        "outputId": "0f8abe49-27c5-45d2-cdad-07144c66a133"
      },
      "cell_type": "code",
      "source": [
        "print(\"Accuracy:\",accuracy_score(y_test, svc_pred)*100)\n",
        "print(\"Precision:\",precision_score(y_test, svc_pred)*100)\n",
        "print(\"Recall:\",recall_score(y_test, svc_pred)*100)"
      ],
      "execution_count": null,
      "outputs": [
        {
          "output_type": "stream",
          "text": "Accuracy: 79.06976744186046\nPrecision: 82.14285714285714\nRecall: 85.18518518518519\n",
          "name": "stdout"
        }
      ]
    },
    {
      "metadata": {
        "trusted": true,
        "id": "_CsLHTnNiuG7"
      },
      "cell_type": "code",
      "source": [
        ""
      ],
      "execution_count": null,
      "outputs": []
    }
  ],
  "metadata": {
    "kernelspec": {
      "name": "python3",
      "display_name": "Python 3",
      "language": "python"
    },
    "language_info": {
      "name": "python",
      "version": "3.7.6",
      "mimetype": "text/x-python",
      "codemirror_mode": {
        "name": "ipython",
        "version": 3
      },
      "pygments_lexer": "ipython3",
      "nbconvert_exporter": "python",
      "file_extension": ".py"
    },
    "colab": {
      "name": "campus-recruitment.ipynb",
      "provenance": [],
      "include_colab_link": true
    }
  },
  "nbformat": 4,
  "nbformat_minor": 0
}