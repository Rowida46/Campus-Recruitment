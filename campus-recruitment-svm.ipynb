{
 "cells": [
  {
   "cell_type": "markdown",
   "metadata": {
    "papermill": {
     "duration": 0.026651,
     "end_time": "2022-01-02T17:19:59.588096",
     "exception": false,
     "start_time": "2022-01-02T17:19:59.561445",
     "status": "completed"
    },
    "tags": []
   },
   "source": [
    "### Importing the Libraries"
   ]
  },
  {
   "cell_type": "code",
   "execution_count": 1,
   "metadata": {
    "execution": {
     "iopub.execute_input": "2022-01-02T17:19:59.642694Z",
     "iopub.status.busy": "2022-01-02T17:19:59.641963Z",
     "iopub.status.idle": "2022-01-02T17:20:00.723694Z",
     "shell.execute_reply": "2022-01-02T17:20:00.724306Z",
     "shell.execute_reply.started": "2022-01-02T17:19:12.689653Z"
    },
    "papermill": {
     "duration": 1.11033,
     "end_time": "2022-01-02T17:20:00.724573",
     "exception": false,
     "start_time": "2022-01-02T17:19:59.614243",
     "status": "completed"
    },
    "tags": []
   },
   "outputs": [],
   "source": [
    "import numpy as np\n",
    "import matplotlib.pyplot as plt\n",
    "import pandas as pd\n",
    "import seaborn as sns\n",
    "from sklearn.model_selection import train_test_split\n",
    "from sklearn.preprocessing import StandardScaler\n",
    "from sklearn.metrics import classification_report, confusion_matrix ,accuracy_score,recall_score,precision_score"
   ]
  },
  {
   "cell_type": "markdown",
   "metadata": {
    "papermill": {
     "duration": 0.025289,
     "end_time": "2022-01-02T17:20:00.777095",
     "exception": false,
     "start_time": "2022-01-02T17:20:00.751806",
     "status": "completed"
    },
    "tags": []
   },
   "source": [
    "### Importing the Dataset"
   ]
  },
  {
   "cell_type": "code",
   "execution_count": 2,
   "metadata": {
    "execution": {
     "iopub.execute_input": "2022-01-02T17:20:00.830322Z",
     "iopub.status.busy": "2022-01-02T17:20:00.829577Z",
     "iopub.status.idle": "2022-01-02T17:20:00.850975Z",
     "shell.execute_reply": "2022-01-02T17:20:00.851577Z",
     "shell.execute_reply.started": "2022-01-02T17:19:13.807252Z"
    },
    "papermill": {
     "duration": 0.049491,
     "end_time": "2022-01-02T17:20:00.851761",
     "exception": false,
     "start_time": "2022-01-02T17:20:00.802270",
     "status": "completed"
    },
    "tags": []
   },
   "outputs": [],
   "source": [
    "df = pd.read_csv('../input/factors-affecting-campus-placement/Placement_Data_Full_Class.csv')"
   ]
  },
  {
   "cell_type": "code",
   "execution_count": 3,
   "metadata": {
    "execution": {
     "iopub.execute_input": "2022-01-02T17:20:00.905674Z",
     "iopub.status.busy": "2022-01-02T17:20:00.904975Z",
     "iopub.status.idle": "2022-01-02T17:20:00.933497Z",
     "shell.execute_reply": "2022-01-02T17:20:00.934254Z",
     "shell.execute_reply.started": "2022-01-02T17:19:13.833581Z"
    },
    "papermill": {
     "duration": 0.056611,
     "end_time": "2022-01-02T17:20:00.934462",
     "exception": false,
     "start_time": "2022-01-02T17:20:00.877851",
     "status": "completed"
    },
    "tags": []
   },
   "outputs": [
    {
     "data": {
      "text/html": [
       "<div>\n",
       "<style scoped>\n",
       "    .dataframe tbody tr th:only-of-type {\n",
       "        vertical-align: middle;\n",
       "    }\n",
       "\n",
       "    .dataframe tbody tr th {\n",
       "        vertical-align: top;\n",
       "    }\n",
       "\n",
       "    .dataframe thead th {\n",
       "        text-align: right;\n",
       "    }\n",
       "</style>\n",
       "<table border=\"1\" class=\"dataframe\">\n",
       "  <thead>\n",
       "    <tr style=\"text-align: right;\">\n",
       "      <th></th>\n",
       "      <th>sl_no</th>\n",
       "      <th>gender</th>\n",
       "      <th>ssc_p</th>\n",
       "      <th>ssc_b</th>\n",
       "      <th>hsc_p</th>\n",
       "      <th>hsc_b</th>\n",
       "      <th>hsc_s</th>\n",
       "      <th>degree_p</th>\n",
       "      <th>degree_t</th>\n",
       "      <th>workex</th>\n",
       "      <th>etest_p</th>\n",
       "      <th>specialisation</th>\n",
       "      <th>mba_p</th>\n",
       "      <th>status</th>\n",
       "      <th>salary</th>\n",
       "    </tr>\n",
       "  </thead>\n",
       "  <tbody>\n",
       "    <tr>\n",
       "      <th>0</th>\n",
       "      <td>1</td>\n",
       "      <td>M</td>\n",
       "      <td>67.00</td>\n",
       "      <td>Others</td>\n",
       "      <td>91.00</td>\n",
       "      <td>Others</td>\n",
       "      <td>Commerce</td>\n",
       "      <td>58.00</td>\n",
       "      <td>Sci&amp;Tech</td>\n",
       "      <td>No</td>\n",
       "      <td>55.0</td>\n",
       "      <td>Mkt&amp;HR</td>\n",
       "      <td>58.80</td>\n",
       "      <td>Placed</td>\n",
       "      <td>270000.0</td>\n",
       "    </tr>\n",
       "    <tr>\n",
       "      <th>1</th>\n",
       "      <td>2</td>\n",
       "      <td>M</td>\n",
       "      <td>79.33</td>\n",
       "      <td>Central</td>\n",
       "      <td>78.33</td>\n",
       "      <td>Others</td>\n",
       "      <td>Science</td>\n",
       "      <td>77.48</td>\n",
       "      <td>Sci&amp;Tech</td>\n",
       "      <td>Yes</td>\n",
       "      <td>86.5</td>\n",
       "      <td>Mkt&amp;Fin</td>\n",
       "      <td>66.28</td>\n",
       "      <td>Placed</td>\n",
       "      <td>200000.0</td>\n",
       "    </tr>\n",
       "    <tr>\n",
       "      <th>2</th>\n",
       "      <td>3</td>\n",
       "      <td>M</td>\n",
       "      <td>65.00</td>\n",
       "      <td>Central</td>\n",
       "      <td>68.00</td>\n",
       "      <td>Central</td>\n",
       "      <td>Arts</td>\n",
       "      <td>64.00</td>\n",
       "      <td>Comm&amp;Mgmt</td>\n",
       "      <td>No</td>\n",
       "      <td>75.0</td>\n",
       "      <td>Mkt&amp;Fin</td>\n",
       "      <td>57.80</td>\n",
       "      <td>Placed</td>\n",
       "      <td>250000.0</td>\n",
       "    </tr>\n",
       "    <tr>\n",
       "      <th>3</th>\n",
       "      <td>4</td>\n",
       "      <td>M</td>\n",
       "      <td>56.00</td>\n",
       "      <td>Central</td>\n",
       "      <td>52.00</td>\n",
       "      <td>Central</td>\n",
       "      <td>Science</td>\n",
       "      <td>52.00</td>\n",
       "      <td>Sci&amp;Tech</td>\n",
       "      <td>No</td>\n",
       "      <td>66.0</td>\n",
       "      <td>Mkt&amp;HR</td>\n",
       "      <td>59.43</td>\n",
       "      <td>Not Placed</td>\n",
       "      <td>NaN</td>\n",
       "    </tr>\n",
       "    <tr>\n",
       "      <th>4</th>\n",
       "      <td>5</td>\n",
       "      <td>M</td>\n",
       "      <td>85.80</td>\n",
       "      <td>Central</td>\n",
       "      <td>73.60</td>\n",
       "      <td>Central</td>\n",
       "      <td>Commerce</td>\n",
       "      <td>73.30</td>\n",
       "      <td>Comm&amp;Mgmt</td>\n",
       "      <td>No</td>\n",
       "      <td>96.8</td>\n",
       "      <td>Mkt&amp;Fin</td>\n",
       "      <td>55.50</td>\n",
       "      <td>Placed</td>\n",
       "      <td>425000.0</td>\n",
       "    </tr>\n",
       "  </tbody>\n",
       "</table>\n",
       "</div>"
      ],
      "text/plain": [
       "   sl_no gender  ssc_p    ssc_b  hsc_p    hsc_b     hsc_s  degree_p  \\\n",
       "0      1      M  67.00   Others  91.00   Others  Commerce     58.00   \n",
       "1      2      M  79.33  Central  78.33   Others   Science     77.48   \n",
       "2      3      M  65.00  Central  68.00  Central      Arts     64.00   \n",
       "3      4      M  56.00  Central  52.00  Central   Science     52.00   \n",
       "4      5      M  85.80  Central  73.60  Central  Commerce     73.30   \n",
       "\n",
       "    degree_t workex  etest_p specialisation  mba_p      status    salary  \n",
       "0   Sci&Tech     No     55.0         Mkt&HR  58.80      Placed  270000.0  \n",
       "1   Sci&Tech    Yes     86.5        Mkt&Fin  66.28      Placed  200000.0  \n",
       "2  Comm&Mgmt     No     75.0        Mkt&Fin  57.80      Placed  250000.0  \n",
       "3   Sci&Tech     No     66.0         Mkt&HR  59.43  Not Placed       NaN  \n",
       "4  Comm&Mgmt     No     96.8        Mkt&Fin  55.50      Placed  425000.0  "
      ]
     },
     "execution_count": 3,
     "metadata": {},
     "output_type": "execute_result"
    }
   ],
   "source": [
    "df.head()"
   ]
  },
  {
   "cell_type": "markdown",
   "metadata": {
    "papermill": {
     "duration": 0.024246,
     "end_time": "2022-01-02T17:20:00.984390",
     "exception": false,
     "start_time": "2022-01-02T17:20:00.960144",
     "status": "completed"
    },
    "tags": []
   },
   "source": [
    "## Get A better Intuition about the data\n",
    "\n",
    "Now that we have our data,\n",
    "- We will try and look for null values in our data.\n",
    "- We will use the describe() method to find the mean of different columns and some other data that might help us in making our model.\n",
    "- Finding Unique the categories\n"
   ]
  },
  {
   "cell_type": "markdown",
   "metadata": {
    "papermill": {
     "duration": 0.024017,
     "end_time": "2022-01-02T17:20:01.032878",
     "exception": false,
     "start_time": "2022-01-02T17:20:01.008861",
     "status": "completed"
    },
    "tags": []
   },
   "source": [
    "### Checking for null values"
   ]
  },
  {
   "cell_type": "code",
   "execution_count": 4,
   "metadata": {
    "execution": {
     "iopub.execute_input": "2022-01-02T17:20:01.087500Z",
     "iopub.status.busy": "2022-01-02T17:20:01.086806Z",
     "iopub.status.idle": "2022-01-02T17:20:01.095656Z",
     "shell.execute_reply": "2022-01-02T17:20:01.096205Z",
     "shell.execute_reply.started": "2022-01-02T17:19:13.868134Z"
    },
    "papermill": {
     "duration": 0.038245,
     "end_time": "2022-01-02T17:20:01.096358",
     "exception": false,
     "start_time": "2022-01-02T17:20:01.058113",
     "status": "completed"
    },
    "tags": []
   },
   "outputs": [
    {
     "name": "stdout",
     "output_type": "stream",
     "text": [
      "sl_no              0\n",
      "gender             0\n",
      "ssc_p              0\n",
      "ssc_b              0\n",
      "hsc_p              0\n",
      "hsc_b              0\n",
      "hsc_s              0\n",
      "degree_p           0\n",
      "degree_t           0\n",
      "workex             0\n",
      "etest_p            0\n",
      "specialisation     0\n",
      "mba_p              0\n",
      "status             0\n",
      "salary            67\n",
      "dtype: int64\n"
     ]
    }
   ],
   "source": [
    "print(df.isnull().sum())"
   ]
  },
  {
   "cell_type": "markdown",
   "metadata": {
    "papermill": {
     "duration": 0.025061,
     "end_time": "2022-01-02T17:20:01.147970",
     "exception": false,
     "start_time": "2022-01-02T17:20:01.122909",
     "status": "completed"
    },
    "tags": []
   },
   "source": [
    "> ### So salary column contains null values"
   ]
  },
  {
   "cell_type": "code",
   "execution_count": 5,
   "metadata": {
    "execution": {
     "iopub.execute_input": "2022-01-02T17:20:01.201144Z",
     "iopub.status.busy": "2022-01-02T17:20:01.200473Z",
     "iopub.status.idle": "2022-01-02T17:20:01.248856Z",
     "shell.execute_reply": "2022-01-02T17:20:01.249427Z",
     "shell.execute_reply.started": "2022-01-02T17:19:13.880336Z"
    },
    "papermill": {
     "duration": 0.077018,
     "end_time": "2022-01-02T17:20:01.249608",
     "exception": false,
     "start_time": "2022-01-02T17:20:01.172590",
     "status": "completed"
    },
    "tags": []
   },
   "outputs": [
    {
     "data": {
      "text/html": [
       "<div>\n",
       "<style scoped>\n",
       "    .dataframe tbody tr th:only-of-type {\n",
       "        vertical-align: middle;\n",
       "    }\n",
       "\n",
       "    .dataframe tbody tr th {\n",
       "        vertical-align: top;\n",
       "    }\n",
       "\n",
       "    .dataframe thead th {\n",
       "        text-align: right;\n",
       "    }\n",
       "</style>\n",
       "<table border=\"1\" class=\"dataframe\">\n",
       "  <thead>\n",
       "    <tr style=\"text-align: right;\">\n",
       "      <th></th>\n",
       "      <th>sl_no</th>\n",
       "      <th>ssc_p</th>\n",
       "      <th>hsc_p</th>\n",
       "      <th>degree_p</th>\n",
       "      <th>etest_p</th>\n",
       "      <th>mba_p</th>\n",
       "      <th>salary</th>\n",
       "    </tr>\n",
       "  </thead>\n",
       "  <tbody>\n",
       "    <tr>\n",
       "      <th>count</th>\n",
       "      <td>215.000000</td>\n",
       "      <td>215.000000</td>\n",
       "      <td>215.000000</td>\n",
       "      <td>215.000000</td>\n",
       "      <td>215.000000</td>\n",
       "      <td>215.000000</td>\n",
       "      <td>148.000000</td>\n",
       "    </tr>\n",
       "    <tr>\n",
       "      <th>mean</th>\n",
       "      <td>108.000000</td>\n",
       "      <td>67.303395</td>\n",
       "      <td>66.333163</td>\n",
       "      <td>66.370186</td>\n",
       "      <td>72.100558</td>\n",
       "      <td>62.278186</td>\n",
       "      <td>288655.405405</td>\n",
       "    </tr>\n",
       "    <tr>\n",
       "      <th>std</th>\n",
       "      <td>62.209324</td>\n",
       "      <td>10.827205</td>\n",
       "      <td>10.897509</td>\n",
       "      <td>7.358743</td>\n",
       "      <td>13.275956</td>\n",
       "      <td>5.833385</td>\n",
       "      <td>93457.452420</td>\n",
       "    </tr>\n",
       "    <tr>\n",
       "      <th>min</th>\n",
       "      <td>1.000000</td>\n",
       "      <td>40.890000</td>\n",
       "      <td>37.000000</td>\n",
       "      <td>50.000000</td>\n",
       "      <td>50.000000</td>\n",
       "      <td>51.210000</td>\n",
       "      <td>200000.000000</td>\n",
       "    </tr>\n",
       "    <tr>\n",
       "      <th>25%</th>\n",
       "      <td>54.500000</td>\n",
       "      <td>60.600000</td>\n",
       "      <td>60.900000</td>\n",
       "      <td>61.000000</td>\n",
       "      <td>60.000000</td>\n",
       "      <td>57.945000</td>\n",
       "      <td>240000.000000</td>\n",
       "    </tr>\n",
       "    <tr>\n",
       "      <th>50%</th>\n",
       "      <td>108.000000</td>\n",
       "      <td>67.000000</td>\n",
       "      <td>65.000000</td>\n",
       "      <td>66.000000</td>\n",
       "      <td>71.000000</td>\n",
       "      <td>62.000000</td>\n",
       "      <td>265000.000000</td>\n",
       "    </tr>\n",
       "    <tr>\n",
       "      <th>75%</th>\n",
       "      <td>161.500000</td>\n",
       "      <td>75.700000</td>\n",
       "      <td>73.000000</td>\n",
       "      <td>72.000000</td>\n",
       "      <td>83.500000</td>\n",
       "      <td>66.255000</td>\n",
       "      <td>300000.000000</td>\n",
       "    </tr>\n",
       "    <tr>\n",
       "      <th>max</th>\n",
       "      <td>215.000000</td>\n",
       "      <td>89.400000</td>\n",
       "      <td>97.700000</td>\n",
       "      <td>91.000000</td>\n",
       "      <td>98.000000</td>\n",
       "      <td>77.890000</td>\n",
       "      <td>940000.000000</td>\n",
       "    </tr>\n",
       "  </tbody>\n",
       "</table>\n",
       "</div>"
      ],
      "text/plain": [
       "            sl_no       ssc_p       hsc_p    degree_p     etest_p       mba_p  \\\n",
       "count  215.000000  215.000000  215.000000  215.000000  215.000000  215.000000   \n",
       "mean   108.000000   67.303395   66.333163   66.370186   72.100558   62.278186   \n",
       "std     62.209324   10.827205   10.897509    7.358743   13.275956    5.833385   \n",
       "min      1.000000   40.890000   37.000000   50.000000   50.000000   51.210000   \n",
       "25%     54.500000   60.600000   60.900000   61.000000   60.000000   57.945000   \n",
       "50%    108.000000   67.000000   65.000000   66.000000   71.000000   62.000000   \n",
       "75%    161.500000   75.700000   73.000000   72.000000   83.500000   66.255000   \n",
       "max    215.000000   89.400000   97.700000   91.000000   98.000000   77.890000   \n",
       "\n",
       "              salary  \n",
       "count     148.000000  \n",
       "mean   288655.405405  \n",
       "std     93457.452420  \n",
       "min    200000.000000  \n",
       "25%    240000.000000  \n",
       "50%    265000.000000  \n",
       "75%    300000.000000  \n",
       "max    940000.000000  "
      ]
     },
     "execution_count": 5,
     "metadata": {},
     "output_type": "execute_result"
    }
   ],
   "source": [
    "df.describe()"
   ]
  },
  {
   "cell_type": "code",
   "execution_count": 6,
   "metadata": {
    "execution": {
     "iopub.execute_input": "2022-01-02T17:20:01.304639Z",
     "iopub.status.busy": "2022-01-02T17:20:01.303925Z",
     "iopub.status.idle": "2022-01-02T17:20:01.309580Z",
     "shell.execute_reply": "2022-01-02T17:20:01.310137Z",
     "shell.execute_reply.started": "2022-01-02T17:19:13.931278Z"
    },
    "papermill": {
     "duration": 0.035082,
     "end_time": "2022-01-02T17:20:01.310303",
     "exception": false,
     "start_time": "2022-01-02T17:20:01.275221",
     "status": "completed"
    },
    "tags": []
   },
   "outputs": [
    {
     "data": {
      "text/plain": [
       "(215, 15)"
      ]
     },
     "execution_count": 6,
     "metadata": {},
     "output_type": "execute_result"
    }
   ],
   "source": [
    " df.shape"
   ]
  },
  {
   "cell_type": "markdown",
   "metadata": {
    "papermill": {
     "duration": 0.025566,
     "end_time": "2022-01-02T17:20:01.361510",
     "exception": false,
     "start_time": "2022-01-02T17:20:01.335944",
     "status": "completed"
    },
    "tags": []
   },
   "source": [
    "#### Finding the categories"
   ]
  },
  {
   "cell_type": "code",
   "execution_count": 7,
   "metadata": {
    "execution": {
     "iopub.execute_input": "2022-01-02T17:20:01.417747Z",
     "iopub.status.busy": "2022-01-02T17:20:01.416991Z",
     "iopub.status.idle": "2022-01-02T17:20:01.426358Z",
     "shell.execute_reply": "2022-01-02T17:20:01.427044Z",
     "shell.execute_reply.started": "2022-01-02T17:19:13.938979Z"
    },
    "papermill": {
     "duration": 0.038684,
     "end_time": "2022-01-02T17:20:01.427196",
     "exception": false,
     "start_time": "2022-01-02T17:20:01.388512",
     "status": "completed"
    },
    "tags": []
   },
   "outputs": [
    {
     "name": "stdout",
     "output_type": "stream",
     "text": [
      "['No' 'Yes']\n",
      "['Mkt&HR' 'Mkt&Fin']\n",
      "['Placed' 'Not Placed']\n"
     ]
    }
   ],
   "source": [
    "print(df['workex'].unique())\n",
    "print(df['specialisation'].unique())\n",
    "print(df['status'].unique())"
   ]
  },
  {
   "cell_type": "markdown",
   "metadata": {
    "papermill": {
     "duration": 0.025741,
     "end_time": "2022-01-02T17:20:01.478956",
     "exception": false,
     "start_time": "2022-01-02T17:20:01.453215",
     "status": "completed"
    },
    "tags": []
   },
   "source": [
    "## Dropping Unnecessary Colums\n",
    "We will drop the sl_no and salary column as they wont help us in any way. The salary also has null values so dropping it means we dint have to impute these values and it won't help us in predicting if a person gets placed or not."
   ]
  },
  {
   "cell_type": "code",
   "execution_count": 8,
   "metadata": {
    "execution": {
     "iopub.execute_input": "2022-01-02T17:20:01.535700Z",
     "iopub.status.busy": "2022-01-02T17:20:01.534912Z",
     "iopub.status.idle": "2022-01-02T17:20:01.556318Z",
     "shell.execute_reply": "2022-01-02T17:20:01.556930Z",
     "shell.execute_reply.started": "2022-01-02T17:19:13.956788Z"
    },
    "papermill": {
     "duration": 0.051946,
     "end_time": "2022-01-02T17:20:01.557107",
     "exception": false,
     "start_time": "2022-01-02T17:20:01.505161",
     "status": "completed"
    },
    "tags": []
   },
   "outputs": [
    {
     "data": {
      "text/html": [
       "<div>\n",
       "<style scoped>\n",
       "    .dataframe tbody tr th:only-of-type {\n",
       "        vertical-align: middle;\n",
       "    }\n",
       "\n",
       "    .dataframe tbody tr th {\n",
       "        vertical-align: top;\n",
       "    }\n",
       "\n",
       "    .dataframe thead th {\n",
       "        text-align: right;\n",
       "    }\n",
       "</style>\n",
       "<table border=\"1\" class=\"dataframe\">\n",
       "  <thead>\n",
       "    <tr style=\"text-align: right;\">\n",
       "      <th></th>\n",
       "      <th>gender</th>\n",
       "      <th>ssc_p</th>\n",
       "      <th>ssc_b</th>\n",
       "      <th>hsc_p</th>\n",
       "      <th>hsc_b</th>\n",
       "      <th>hsc_s</th>\n",
       "      <th>degree_p</th>\n",
       "      <th>degree_t</th>\n",
       "      <th>workex</th>\n",
       "      <th>etest_p</th>\n",
       "      <th>specialisation</th>\n",
       "      <th>mba_p</th>\n",
       "      <th>status</th>\n",
       "    </tr>\n",
       "  </thead>\n",
       "  <tbody>\n",
       "    <tr>\n",
       "      <th>0</th>\n",
       "      <td>M</td>\n",
       "      <td>67.00</td>\n",
       "      <td>Others</td>\n",
       "      <td>91.00</td>\n",
       "      <td>Others</td>\n",
       "      <td>Commerce</td>\n",
       "      <td>58.00</td>\n",
       "      <td>Sci&amp;Tech</td>\n",
       "      <td>No</td>\n",
       "      <td>55.0</td>\n",
       "      <td>Mkt&amp;HR</td>\n",
       "      <td>58.80</td>\n",
       "      <td>Placed</td>\n",
       "    </tr>\n",
       "    <tr>\n",
       "      <th>1</th>\n",
       "      <td>M</td>\n",
       "      <td>79.33</td>\n",
       "      <td>Central</td>\n",
       "      <td>78.33</td>\n",
       "      <td>Others</td>\n",
       "      <td>Science</td>\n",
       "      <td>77.48</td>\n",
       "      <td>Sci&amp;Tech</td>\n",
       "      <td>Yes</td>\n",
       "      <td>86.5</td>\n",
       "      <td>Mkt&amp;Fin</td>\n",
       "      <td>66.28</td>\n",
       "      <td>Placed</td>\n",
       "    </tr>\n",
       "    <tr>\n",
       "      <th>2</th>\n",
       "      <td>M</td>\n",
       "      <td>65.00</td>\n",
       "      <td>Central</td>\n",
       "      <td>68.00</td>\n",
       "      <td>Central</td>\n",
       "      <td>Arts</td>\n",
       "      <td>64.00</td>\n",
       "      <td>Comm&amp;Mgmt</td>\n",
       "      <td>No</td>\n",
       "      <td>75.0</td>\n",
       "      <td>Mkt&amp;Fin</td>\n",
       "      <td>57.80</td>\n",
       "      <td>Placed</td>\n",
       "    </tr>\n",
       "    <tr>\n",
       "      <th>3</th>\n",
       "      <td>M</td>\n",
       "      <td>56.00</td>\n",
       "      <td>Central</td>\n",
       "      <td>52.00</td>\n",
       "      <td>Central</td>\n",
       "      <td>Science</td>\n",
       "      <td>52.00</td>\n",
       "      <td>Sci&amp;Tech</td>\n",
       "      <td>No</td>\n",
       "      <td>66.0</td>\n",
       "      <td>Mkt&amp;HR</td>\n",
       "      <td>59.43</td>\n",
       "      <td>Not Placed</td>\n",
       "    </tr>\n",
       "    <tr>\n",
       "      <th>4</th>\n",
       "      <td>M</td>\n",
       "      <td>85.80</td>\n",
       "      <td>Central</td>\n",
       "      <td>73.60</td>\n",
       "      <td>Central</td>\n",
       "      <td>Commerce</td>\n",
       "      <td>73.30</td>\n",
       "      <td>Comm&amp;Mgmt</td>\n",
       "      <td>No</td>\n",
       "      <td>96.8</td>\n",
       "      <td>Mkt&amp;Fin</td>\n",
       "      <td>55.50</td>\n",
       "      <td>Placed</td>\n",
       "    </tr>\n",
       "  </tbody>\n",
       "</table>\n",
       "</div>"
      ],
      "text/plain": [
       "  gender  ssc_p    ssc_b  hsc_p    hsc_b     hsc_s  degree_p   degree_t  \\\n",
       "0      M  67.00   Others  91.00   Others  Commerce     58.00   Sci&Tech   \n",
       "1      M  79.33  Central  78.33   Others   Science     77.48   Sci&Tech   \n",
       "2      M  65.00  Central  68.00  Central      Arts     64.00  Comm&Mgmt   \n",
       "3      M  56.00  Central  52.00  Central   Science     52.00   Sci&Tech   \n",
       "4      M  85.80  Central  73.60  Central  Commerce     73.30  Comm&Mgmt   \n",
       "\n",
       "  workex  etest_p specialisation  mba_p      status  \n",
       "0     No     55.0         Mkt&HR  58.80      Placed  \n",
       "1    Yes     86.5        Mkt&Fin  66.28      Placed  \n",
       "2     No     75.0        Mkt&Fin  57.80      Placed  \n",
       "3     No     66.0         Mkt&HR  59.43  Not Placed  \n",
       "4     No     96.8        Mkt&Fin  55.50      Placed  "
      ]
     },
     "execution_count": 8,
     "metadata": {},
     "output_type": "execute_result"
    }
   ],
   "source": [
    "df1 = df.copy()\n",
    "df1.drop(['sl_no','salary'],axis = 1,inplace = True)\n",
    "df1.head()"
   ]
  },
  {
   "cell_type": "code",
   "execution_count": 9,
   "metadata": {
    "execution": {
     "iopub.execute_input": "2022-01-02T17:20:01.615043Z",
     "iopub.status.busy": "2022-01-02T17:20:01.614294Z",
     "iopub.status.idle": "2022-01-02T17:20:01.619279Z",
     "shell.execute_reply": "2022-01-02T17:20:01.619834Z",
     "shell.execute_reply.started": "2022-01-02T17:19:13.985510Z"
    },
    "papermill": {
     "duration": 0.035828,
     "end_time": "2022-01-02T17:20:01.620011",
     "exception": false,
     "start_time": "2022-01-02T17:20:01.584183",
     "status": "completed"
    },
    "tags": []
   },
   "outputs": [
    {
     "data": {
      "text/plain": [
       "(215, 13)"
      ]
     },
     "execution_count": 9,
     "metadata": {},
     "output_type": "execute_result"
    }
   ],
   "source": [
    " df1.shape"
   ]
  },
  {
   "cell_type": "markdown",
   "metadata": {
    "papermill": {
     "duration": 0.027171,
     "end_time": "2022-01-02T17:20:01.675683",
     "exception": false,
     "start_time": "2022-01-02T17:20:01.648512",
     "status": "completed"
    },
    "tags": []
   },
   "source": [
    "### Encoding Categorical Values\n",
    "\n",
    "We have values in the columns that are strings. In order to train our model, we need to convert these strings to numbers in order to feed it to the model.\n",
    "\n"
   ]
  },
  {
   "cell_type": "code",
   "execution_count": 10,
   "metadata": {
    "execution": {
     "iopub.execute_input": "2022-01-02T17:20:01.736942Z",
     "iopub.status.busy": "2022-01-02T17:20:01.735793Z",
     "iopub.status.idle": "2022-01-02T17:20:01.762574Z",
     "shell.execute_reply": "2022-01-02T17:20:01.763510Z",
     "shell.execute_reply.started": "2022-01-02T17:19:14.002607Z"
    },
    "papermill": {
     "duration": 0.060663,
     "end_time": "2022-01-02T17:20:01.763830",
     "exception": false,
     "start_time": "2022-01-02T17:20:01.703167",
     "status": "completed"
    },
    "tags": []
   },
   "outputs": [],
   "source": [
    "df1['status']= df1['status'].map({'Placed':1,'Not Placed':0})\n",
    "df1['workex']= df1['workex'].map({'Yes':1,'No':0})\n",
    "df1['gender']= df1['gender'].map({'M':1,'F':0})\n",
    "df1['hsc_b']= df1['hsc_b'].map({'Central':1,'Others':0})\n",
    "df1['ssc_b']= df1['ssc_b'].map({'Central':1,'Others':0})\n",
    "df1['specialisation'] = df1['specialisation'].map({'Mkt&HR': 1 , 'Mkt&Fin' : 0})\n",
    "df1['degree_t']= df1['degree_t'].map({'Sci&Tech':0,'Comm&Mgmt':1,'Others':2})\n",
    "df1['hsc_s']= df1['hsc_s'].map({'Commerce':0,'Science':1,'Arts':2})"
   ]
  },
  {
   "cell_type": "code",
   "execution_count": 11,
   "metadata": {
    "execution": {
     "iopub.execute_input": "2022-01-02T17:20:01.838247Z",
     "iopub.status.busy": "2022-01-02T17:20:01.837394Z",
     "iopub.status.idle": "2022-01-02T17:20:01.856808Z",
     "shell.execute_reply": "2022-01-02T17:20:01.857342Z",
     "shell.execute_reply.started": "2022-01-02T17:19:14.027590Z"
    },
    "papermill": {
     "duration": 0.057542,
     "end_time": "2022-01-02T17:20:01.857592",
     "exception": false,
     "start_time": "2022-01-02T17:20:01.800050",
     "status": "completed"
    },
    "tags": []
   },
   "outputs": [
    {
     "data": {
      "text/html": [
       "<div>\n",
       "<style scoped>\n",
       "    .dataframe tbody tr th:only-of-type {\n",
       "        vertical-align: middle;\n",
       "    }\n",
       "\n",
       "    .dataframe tbody tr th {\n",
       "        vertical-align: top;\n",
       "    }\n",
       "\n",
       "    .dataframe thead th {\n",
       "        text-align: right;\n",
       "    }\n",
       "</style>\n",
       "<table border=\"1\" class=\"dataframe\">\n",
       "  <thead>\n",
       "    <tr style=\"text-align: right;\">\n",
       "      <th></th>\n",
       "      <th>gender</th>\n",
       "      <th>ssc_p</th>\n",
       "      <th>ssc_b</th>\n",
       "      <th>hsc_p</th>\n",
       "      <th>hsc_b</th>\n",
       "      <th>hsc_s</th>\n",
       "      <th>degree_p</th>\n",
       "      <th>degree_t</th>\n",
       "      <th>workex</th>\n",
       "      <th>etest_p</th>\n",
       "      <th>specialisation</th>\n",
       "      <th>mba_p</th>\n",
       "      <th>status</th>\n",
       "    </tr>\n",
       "  </thead>\n",
       "  <tbody>\n",
       "    <tr>\n",
       "      <th>0</th>\n",
       "      <td>1</td>\n",
       "      <td>67.00</td>\n",
       "      <td>0</td>\n",
       "      <td>91.00</td>\n",
       "      <td>0</td>\n",
       "      <td>0</td>\n",
       "      <td>58.00</td>\n",
       "      <td>0</td>\n",
       "      <td>0</td>\n",
       "      <td>55.0</td>\n",
       "      <td>1</td>\n",
       "      <td>58.80</td>\n",
       "      <td>1</td>\n",
       "    </tr>\n",
       "    <tr>\n",
       "      <th>1</th>\n",
       "      <td>1</td>\n",
       "      <td>79.33</td>\n",
       "      <td>1</td>\n",
       "      <td>78.33</td>\n",
       "      <td>0</td>\n",
       "      <td>1</td>\n",
       "      <td>77.48</td>\n",
       "      <td>0</td>\n",
       "      <td>1</td>\n",
       "      <td>86.5</td>\n",
       "      <td>0</td>\n",
       "      <td>66.28</td>\n",
       "      <td>1</td>\n",
       "    </tr>\n",
       "    <tr>\n",
       "      <th>2</th>\n",
       "      <td>1</td>\n",
       "      <td>65.00</td>\n",
       "      <td>1</td>\n",
       "      <td>68.00</td>\n",
       "      <td>1</td>\n",
       "      <td>2</td>\n",
       "      <td>64.00</td>\n",
       "      <td>1</td>\n",
       "      <td>0</td>\n",
       "      <td>75.0</td>\n",
       "      <td>0</td>\n",
       "      <td>57.80</td>\n",
       "      <td>1</td>\n",
       "    </tr>\n",
       "    <tr>\n",
       "      <th>3</th>\n",
       "      <td>1</td>\n",
       "      <td>56.00</td>\n",
       "      <td>1</td>\n",
       "      <td>52.00</td>\n",
       "      <td>1</td>\n",
       "      <td>1</td>\n",
       "      <td>52.00</td>\n",
       "      <td>0</td>\n",
       "      <td>0</td>\n",
       "      <td>66.0</td>\n",
       "      <td>1</td>\n",
       "      <td>59.43</td>\n",
       "      <td>0</td>\n",
       "    </tr>\n",
       "    <tr>\n",
       "      <th>4</th>\n",
       "      <td>1</td>\n",
       "      <td>85.80</td>\n",
       "      <td>1</td>\n",
       "      <td>73.60</td>\n",
       "      <td>1</td>\n",
       "      <td>0</td>\n",
       "      <td>73.30</td>\n",
       "      <td>1</td>\n",
       "      <td>0</td>\n",
       "      <td>96.8</td>\n",
       "      <td>0</td>\n",
       "      <td>55.50</td>\n",
       "      <td>1</td>\n",
       "    </tr>\n",
       "  </tbody>\n",
       "</table>\n",
       "</div>"
      ],
      "text/plain": [
       "   gender  ssc_p  ssc_b  hsc_p  hsc_b  hsc_s  degree_p  degree_t  workex  \\\n",
       "0       1  67.00      0  91.00      0      0     58.00         0       0   \n",
       "1       1  79.33      1  78.33      0      1     77.48         0       1   \n",
       "2       1  65.00      1  68.00      1      2     64.00         1       0   \n",
       "3       1  56.00      1  52.00      1      1     52.00         0       0   \n",
       "4       1  85.80      1  73.60      1      0     73.30         1       0   \n",
       "\n",
       "   etest_p  specialisation  mba_p  status  \n",
       "0     55.0               1  58.80       1  \n",
       "1     86.5               0  66.28       1  \n",
       "2     75.0               0  57.80       1  \n",
       "3     66.0               1  59.43       0  \n",
       "4     96.8               0  55.50       1  "
      ]
     },
     "execution_count": 11,
     "metadata": {},
     "output_type": "execute_result"
    }
   ],
   "source": [
    "df1.head()"
   ]
  },
  {
   "cell_type": "markdown",
   "metadata": {
    "papermill": {
     "duration": 0.028149,
     "end_time": "2022-01-02T17:20:01.915279",
     "exception": false,
     "start_time": "2022-01-02T17:20:01.887130",
     "status": "completed"
    },
    "tags": []
   },
   "source": [
    "## Splitting data into features and target\n",
    "\n",
    "We won't use all of these values. We will use the `ssc_p`,`hsc_p`,`degree_p`,`workex`,`mba_p`,`etest_p`,`gender`,`degree_t` and `specialisation` column as our features to predict whether a candidate will be __placed or not__.\n",
    "\n"
   ]
  },
  {
   "cell_type": "code",
   "execution_count": 12,
   "metadata": {
    "execution": {
     "iopub.execute_input": "2022-01-02T17:20:01.985061Z",
     "iopub.status.busy": "2022-01-02T17:20:01.984360Z",
     "iopub.status.idle": "2022-01-02T17:20:01.996150Z",
     "shell.execute_reply": "2022-01-02T17:20:01.996943Z",
     "shell.execute_reply.started": "2022-01-02T17:19:14.047450Z"
    },
    "papermill": {
     "duration": 0.048506,
     "end_time": "2022-01-02T17:20:01.997108",
     "exception": false,
     "start_time": "2022-01-02T17:20:01.948602",
     "status": "completed"
    },
    "tags": []
   },
   "outputs": [],
   "source": [
    "X =df1[['ssc_p','hsc_p','degree_p','workex','mba_p','etest_p','gender','degree_t','specialisation']]\n",
    "Y = df1.iloc[:,-1]"
   ]
  },
  {
   "cell_type": "code",
   "execution_count": 13,
   "metadata": {
    "execution": {
     "iopub.execute_input": "2022-01-02T17:20:02.071075Z",
     "iopub.status.busy": "2022-01-02T17:20:02.069995Z",
     "iopub.status.idle": "2022-01-02T17:20:02.086717Z",
     "shell.execute_reply": "2022-01-02T17:20:02.087297Z",
     "shell.execute_reply.started": "2022-01-02T17:19:14.061896Z"
    },
    "papermill": {
     "duration": 0.049462,
     "end_time": "2022-01-02T17:20:02.087497",
     "exception": false,
     "start_time": "2022-01-02T17:20:02.038035",
     "status": "completed"
    },
    "tags": []
   },
   "outputs": [
    {
     "data": {
      "text/html": [
       "<div>\n",
       "<style scoped>\n",
       "    .dataframe tbody tr th:only-of-type {\n",
       "        vertical-align: middle;\n",
       "    }\n",
       "\n",
       "    .dataframe tbody tr th {\n",
       "        vertical-align: top;\n",
       "    }\n",
       "\n",
       "    .dataframe thead th {\n",
       "        text-align: right;\n",
       "    }\n",
       "</style>\n",
       "<table border=\"1\" class=\"dataframe\">\n",
       "  <thead>\n",
       "    <tr style=\"text-align: right;\">\n",
       "      <th></th>\n",
       "      <th>ssc_p</th>\n",
       "      <th>hsc_p</th>\n",
       "      <th>degree_p</th>\n",
       "      <th>workex</th>\n",
       "      <th>mba_p</th>\n",
       "      <th>etest_p</th>\n",
       "      <th>gender</th>\n",
       "      <th>degree_t</th>\n",
       "      <th>specialisation</th>\n",
       "    </tr>\n",
       "  </thead>\n",
       "  <tbody>\n",
       "    <tr>\n",
       "      <th>0</th>\n",
       "      <td>67.00</td>\n",
       "      <td>91.00</td>\n",
       "      <td>58.00</td>\n",
       "      <td>0</td>\n",
       "      <td>58.80</td>\n",
       "      <td>55.0</td>\n",
       "      <td>1</td>\n",
       "      <td>0</td>\n",
       "      <td>1</td>\n",
       "    </tr>\n",
       "    <tr>\n",
       "      <th>1</th>\n",
       "      <td>79.33</td>\n",
       "      <td>78.33</td>\n",
       "      <td>77.48</td>\n",
       "      <td>1</td>\n",
       "      <td>66.28</td>\n",
       "      <td>86.5</td>\n",
       "      <td>1</td>\n",
       "      <td>0</td>\n",
       "      <td>0</td>\n",
       "    </tr>\n",
       "    <tr>\n",
       "      <th>2</th>\n",
       "      <td>65.00</td>\n",
       "      <td>68.00</td>\n",
       "      <td>64.00</td>\n",
       "      <td>0</td>\n",
       "      <td>57.80</td>\n",
       "      <td>75.0</td>\n",
       "      <td>1</td>\n",
       "      <td>1</td>\n",
       "      <td>0</td>\n",
       "    </tr>\n",
       "    <tr>\n",
       "      <th>3</th>\n",
       "      <td>56.00</td>\n",
       "      <td>52.00</td>\n",
       "      <td>52.00</td>\n",
       "      <td>0</td>\n",
       "      <td>59.43</td>\n",
       "      <td>66.0</td>\n",
       "      <td>1</td>\n",
       "      <td>0</td>\n",
       "      <td>1</td>\n",
       "    </tr>\n",
       "    <tr>\n",
       "      <th>4</th>\n",
       "      <td>85.80</td>\n",
       "      <td>73.60</td>\n",
       "      <td>73.30</td>\n",
       "      <td>0</td>\n",
       "      <td>55.50</td>\n",
       "      <td>96.8</td>\n",
       "      <td>1</td>\n",
       "      <td>1</td>\n",
       "      <td>0</td>\n",
       "    </tr>\n",
       "  </tbody>\n",
       "</table>\n",
       "</div>"
      ],
      "text/plain": [
       "   ssc_p  hsc_p  degree_p  workex  mba_p  etest_p  gender  degree_t  \\\n",
       "0  67.00  91.00     58.00       0  58.80     55.0       1         0   \n",
       "1  79.33  78.33     77.48       1  66.28     86.5       1         0   \n",
       "2  65.00  68.00     64.00       0  57.80     75.0       1         1   \n",
       "3  56.00  52.00     52.00       0  59.43     66.0       1         0   \n",
       "4  85.80  73.60     73.30       0  55.50     96.8       1         1   \n",
       "\n",
       "   specialisation  \n",
       "0               1  \n",
       "1               0  \n",
       "2               0  \n",
       "3               1  \n",
       "4               0  "
      ]
     },
     "execution_count": 13,
     "metadata": {},
     "output_type": "execute_result"
    }
   ],
   "source": [
    "X.head()"
   ]
  },
  {
   "cell_type": "code",
   "execution_count": 14,
   "metadata": {
    "execution": {
     "iopub.execute_input": "2022-01-02T17:20:02.153706Z",
     "iopub.status.busy": "2022-01-02T17:20:02.152874Z",
     "iopub.status.idle": "2022-01-02T17:20:02.161309Z",
     "shell.execute_reply": "2022-01-02T17:20:02.162371Z",
     "shell.execute_reply.started": "2022-01-02T17:19:14.089256Z"
    },
    "papermill": {
     "duration": 0.04547,
     "end_time": "2022-01-02T17:20:02.162683",
     "exception": false,
     "start_time": "2022-01-02T17:20:02.117213",
     "status": "completed"
    },
    "tags": []
   },
   "outputs": [
    {
     "name": "stdout",
     "output_type": "stream",
     "text": [
      "0      1\n",
      "1      1\n",
      "2      1\n",
      "3      0\n",
      "4      1\n",
      "      ..\n",
      "210    1\n",
      "211    1\n",
      "212    1\n",
      "213    1\n",
      "214    0\n",
      "Name: status, Length: 215, dtype: int64\n"
     ]
    }
   ],
   "source": [
    "print(Y)"
   ]
  },
  {
   "cell_type": "markdown",
   "metadata": {
    "papermill": {
     "duration": 0.031739,
     "end_time": "2022-01-02T17:20:02.229478",
     "exception": false,
     "start_time": "2022-01-02T17:20:02.197739",
     "status": "completed"
    },
    "tags": []
   },
   "source": [
    "### Splitting the dataset into training set and test set"
   ]
  },
  {
   "cell_type": "code",
   "execution_count": 15,
   "metadata": {
    "execution": {
     "iopub.execute_input": "2022-01-02T17:20:02.291003Z",
     "iopub.status.busy": "2022-01-02T17:20:02.290240Z",
     "iopub.status.idle": "2022-01-02T17:20:02.297376Z",
     "shell.execute_reply": "2022-01-02T17:20:02.297954Z",
     "shell.execute_reply.started": "2022-01-02T17:19:14.100681Z"
    },
    "papermill": {
     "duration": 0.039754,
     "end_time": "2022-01-02T17:20:02.298138",
     "exception": false,
     "start_time": "2022-01-02T17:20:02.258384",
     "status": "completed"
    },
    "tags": []
   },
   "outputs": [],
   "source": [
    "from sklearn.model_selection import train_test_split\n",
    "x_train, x_test, y_train, y_test = train_test_split(X, Y, test_size = 0.2)"
   ]
  },
  {
   "cell_type": "markdown",
   "metadata": {
    "papermill": {
     "duration": 0.028606,
     "end_time": "2022-01-02T17:20:02.356050",
     "exception": false,
     "start_time": "2022-01-02T17:20:02.327444",
     "status": "completed"
    },
    "tags": []
   },
   "source": [
    "### Feature Scaling"
   ]
  },
  {
   "cell_type": "code",
   "execution_count": 16,
   "metadata": {
    "execution": {
     "iopub.execute_input": "2022-01-02T17:20:02.418446Z",
     "iopub.status.busy": "2022-01-02T17:20:02.417808Z",
     "iopub.status.idle": "2022-01-02T17:20:02.430507Z",
     "shell.execute_reply": "2022-01-02T17:20:02.429810Z",
     "shell.execute_reply.started": "2022-01-02T17:19:14.116555Z"
    },
    "papermill": {
     "duration": 0.044597,
     "end_time": "2022-01-02T17:20:02.430663",
     "exception": false,
     "start_time": "2022-01-02T17:20:02.386066",
     "status": "completed"
    },
    "tags": []
   },
   "outputs": [],
   "source": [
    "scaler = StandardScaler()\n",
    "scaler.fit(x_train)\n",
    "x_train = scaler.transform(x_train)\n",
    "x_test = scaler.transform(x_test)"
   ]
  },
  {
   "cell_type": "markdown",
   "metadata": {
    "papermill": {
     "duration": 0.029102,
     "end_time": "2022-01-02T17:20:02.488850",
     "exception": false,
     "start_time": "2022-01-02T17:20:02.459748",
     "status": "completed"
    },
    "tags": []
   },
   "source": [
    "### Applying classification models on the Training set\n",
    "\n",
    "_Our goal is to predict whether a candidate will be placed or not. This is a classification problem so we will use  __KNN__ and __SVM__ and compare how these perform individually._\n",
    "\n"
   ]
  },
  {
   "cell_type": "markdown",
   "metadata": {
    "papermill": {
     "duration": 0.02867,
     "end_time": "2022-01-02T17:20:02.547355",
     "exception": false,
     "start_time": "2022-01-02T17:20:02.518685",
     "status": "completed"
    },
    "tags": []
   },
   "source": [
    "### K Nearest Neighbor"
   ]
  },
  {
   "cell_type": "code",
   "execution_count": 17,
   "metadata": {
    "execution": {
     "iopub.execute_input": "2022-01-02T17:20:02.610811Z",
     "iopub.status.busy": "2022-01-02T17:20:02.610017Z",
     "iopub.status.idle": "2022-01-02T17:20:02.754404Z",
     "shell.execute_reply": "2022-01-02T17:20:02.753756Z",
     "shell.execute_reply.started": "2022-01-02T17:19:14.138372Z"
    },
    "papermill": {
     "duration": 0.178057,
     "end_time": "2022-01-02T17:20:02.754609",
     "exception": false,
     "start_time": "2022-01-02T17:20:02.576552",
     "status": "completed"
    },
    "tags": []
   },
   "outputs": [],
   "source": [
    "from sklearn.neighbors import KNeighborsClassifier\n"
   ]
  },
  {
   "cell_type": "code",
   "execution_count": 18,
   "metadata": {
    "execution": {
     "iopub.execute_input": "2022-01-02T17:20:02.824025Z",
     "iopub.status.busy": "2022-01-02T17:20:02.823254Z",
     "iopub.status.idle": "2022-01-02T17:20:02.828239Z",
     "shell.execute_reply": "2022-01-02T17:20:02.828870Z",
     "shell.execute_reply.started": "2022-01-02T17:19:14.301953Z"
    },
    "papermill": {
     "duration": 0.044751,
     "end_time": "2022-01-02T17:20:02.829048",
     "exception": false,
     "start_time": "2022-01-02T17:20:02.784297",
     "status": "completed"
    },
    "tags": []
   },
   "outputs": [
    {
     "data": {
      "text/plain": [
       "KNeighborsClassifier()"
      ]
     },
     "execution_count": 18,
     "metadata": {},
     "output_type": "execute_result"
    }
   ],
   "source": [
    "classifier = KNeighborsClassifier(n_neighbors=5, p=2, metric='minkowski')\n",
    "classifier.fit(x_train,y_train)"
   ]
  },
  {
   "cell_type": "code",
   "execution_count": 19,
   "metadata": {
    "execution": {
     "iopub.execute_input": "2022-01-02T17:20:02.891936Z",
     "iopub.status.busy": "2022-01-02T17:20:02.891169Z",
     "iopub.status.idle": "2022-01-02T17:20:02.904647Z",
     "shell.execute_reply": "2022-01-02T17:20:02.905258Z",
     "shell.execute_reply.started": "2022-01-02T17:19:14.320274Z"
    },
    "papermill": {
     "duration": 0.046803,
     "end_time": "2022-01-02T17:20:02.905444",
     "exception": false,
     "start_time": "2022-01-02T17:20:02.858641",
     "status": "completed"
    },
    "tags": []
   },
   "outputs": [
    {
     "name": "stdout",
     "output_type": "stream",
     "text": [
      "Accuracy: 86.04651162790698\n",
      "Precision: 87.87878787878788\n",
      "Recall: 93.54838709677419\n"
     ]
    }
   ],
   "source": [
    "prediction = classifier.predict(x_test)\n",
    "print(\"Accuracy:\",accuracy_score(y_test, prediction)*100)\n",
    "print(\"Precision:\",precision_score(y_test, prediction)*100)\n",
    "print(\"Recall:\",recall_score(y_test, prediction)*100)"
   ]
  },
  {
   "cell_type": "markdown",
   "metadata": {
    "papermill": {
     "duration": 0.030572,
     "end_time": "2022-01-02T17:20:02.967524",
     "exception": false,
     "start_time": "2022-01-02T17:20:02.936952",
     "status": "completed"
    },
    "tags": []
   },
   "source": [
    "### Support Vector Machine"
   ]
  },
  {
   "cell_type": "code",
   "execution_count": 20,
   "metadata": {
    "execution": {
     "iopub.execute_input": "2022-01-02T17:20:03.031699Z",
     "iopub.status.busy": "2022-01-02T17:20:03.031012Z",
     "iopub.status.idle": "2022-01-02T17:20:03.035443Z",
     "shell.execute_reply": "2022-01-02T17:20:03.036050Z",
     "shell.execute_reply.started": "2022-01-02T17:19:14.338815Z"
    },
    "papermill": {
     "duration": 0.038063,
     "end_time": "2022-01-02T17:20:03.036215",
     "exception": false,
     "start_time": "2022-01-02T17:20:02.998152",
     "status": "completed"
    },
    "tags": []
   },
   "outputs": [],
   "source": [
    "from sklearn.svm import SVC\n",
    "from sklearn.metrics import confusion_matrix, accuracy_score"
   ]
  },
  {
   "cell_type": "code",
   "execution_count": 21,
   "metadata": {
    "execution": {
     "iopub.execute_input": "2022-01-02T17:20:03.098646Z",
     "iopub.status.busy": "2022-01-02T17:20:03.097979Z",
     "iopub.status.idle": "2022-01-02T17:20:03.105506Z",
     "shell.execute_reply": "2022-01-02T17:20:03.106064Z",
     "shell.execute_reply.started": "2022-01-02T17:19:14.344932Z"
    },
    "papermill": {
     "duration": 0.040527,
     "end_time": "2022-01-02T17:20:03.106228",
     "exception": false,
     "start_time": "2022-01-02T17:20:03.065701",
     "status": "completed"
    },
    "tags": []
   },
   "outputs": [
    {
     "data": {
      "text/plain": [
       "SVC()"
      ]
     },
     "execution_count": 21,
     "metadata": {},
     "output_type": "execute_result"
    }
   ],
   "source": [
    "classifier = SVC()\n",
    "classifier.fit(x_train, y_train)"
   ]
  },
  {
   "cell_type": "code",
   "execution_count": 22,
   "metadata": {
    "execution": {
     "iopub.execute_input": "2022-01-02T17:20:03.170306Z",
     "iopub.status.busy": "2022-01-02T17:20:03.169508Z",
     "iopub.status.idle": "2022-01-02T17:20:03.180933Z",
     "shell.execute_reply": "2022-01-02T17:20:03.180189Z",
     "shell.execute_reply.started": "2022-01-02T17:19:14.365130Z"
    },
    "papermill": {
     "duration": 0.045019,
     "end_time": "2022-01-02T17:20:03.181071",
     "exception": false,
     "start_time": "2022-01-02T17:20:03.136052",
     "status": "completed"
    },
    "tags": []
   },
   "outputs": [
    {
     "name": "stdout",
     "output_type": "stream",
     "text": [
      "Accuracy: 83.72093023255815\n",
      "Precision: 87.5\n",
      "Recall: 90.32258064516128\n"
     ]
    }
   ],
   "source": [
    "svc_pred = classifier.predict(x_test)\n",
    "print(\"Accuracy:\",accuracy_score(y_test, svc_pred)*100)\n",
    "print(\"Precision:\",precision_score(y_test, svc_pred)*100)\n",
    "print(\"Recall:\",recall_score(y_test, svc_pred)*100)"
   ]
  }
 ],
 "metadata": {
  "kernelspec": {
   "display_name": "Python 3",
   "language": "python",
   "name": "python3"
  },
  "language_info": {
   "codemirror_mode": {
    "name": "ipython",
    "version": 3
   },
   "file_extension": ".py",
   "mimetype": "text/x-python",
   "name": "python",
   "nbconvert_exporter": "python",
   "pygments_lexer": "ipython3",
   "version": "3.7.6"
  },
  "papermill": {
   "duration": 8.298711,
   "end_time": "2022-01-02T17:20:03.320310",
   "environment_variables": {},
   "exception": null,
   "input_path": "__notebook__.ipynb",
   "output_path": "__notebook__.ipynb",
   "parameters": {},
   "start_time": "2022-01-02T17:19:55.021599",
   "version": "2.1.0"
  }
 },
 "nbformat": 4,
 "nbformat_minor": 4
}
